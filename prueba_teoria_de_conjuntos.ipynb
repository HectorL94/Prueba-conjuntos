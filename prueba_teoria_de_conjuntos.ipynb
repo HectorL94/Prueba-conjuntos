{
 "cells": [
  {
   "cell_type": "code",
   "execution_count": 7,
   "metadata": {},
   "outputs": [],
   "source": [
    "import pandas as pd"
   ]
  },
  {
   "cell_type": "code",
   "execution_count": null,
   "metadata": {},
   "outputs": [],
   "source": [
    "elements_to_consider = ['A', 'B', 'C', 'D', 'E', 'F', 'G', 'H', 'I', 'J']\n",
    "cluster_1 = {\"c1\": ['A', 'B', 'C', 'D', 'E'], \"c2\": ['F', 'G', 'H', 'I', 'J']}\n",
    "cluster_2 = {\"c1\": ['A', 'B', 'C', 'D', 'E'], \"c2\": ['F', 'G', 'H', 'I', 'J']}\n",
    "cluster_3 = {\"c1\": ['A', 'B'], \"c2\": ['C', 'D', 'E', 'F'],\n",
    "             \"c3\": ['G'], \"c4\": ['H', 'I', 'J']}"
   ]
  },
  {
   "cell_type": "code",
   "execution_count": null,
   "metadata": {},
   "outputs": [
    {
     "data": {
      "application/vnd.microsoft.datawrangler.viewer.v0+json": {
       "columns": [
        {
         "name": "index",
         "rawType": "object",
         "type": "string"
        },
        {
         "name": "c1",
         "rawType": "object",
         "type": "unknown"
        },
        {
         "name": "c2",
         "rawType": "object",
         "type": "unknown"
        },
        {
         "name": "n_col",
         "rawType": "float64",
         "type": "float"
        }
       ],
       "conversionMethod": "pd.DataFrame",
       "ref": "e01dfbd3-8612-4e67-97c7-4fef56c32217",
       "rows": [
        [
         "c1",
         "1.0",
         "0.0",
         "1.0"
        ],
        [
         "c2",
         "0.75",
         "0.25",
         "1.0"
        ],
        [
         "c3",
         "0.0",
         "1.0",
         "1.0"
        ],
        [
         "c4",
         "0.0",
         "1.0",
         "1.0"
        ],
        [
         "n_row",
         "2.0",
         "2.0",
         null
        ]
       ],
       "shape": {
        "columns": 3,
        "rows": 5
       }
      },
      "text/html": [
       "<div>\n",
       "<style scoped>\n",
       "    .dataframe tbody tr th:only-of-type {\n",
       "        vertical-align: middle;\n",
       "    }\n",
       "\n",
       "    .dataframe tbody tr th {\n",
       "        vertical-align: top;\n",
       "    }\n",
       "\n",
       "    .dataframe thead th {\n",
       "        text-align: right;\n",
       "    }\n",
       "</style>\n",
       "<table border=\"1\" class=\"dataframe\">\n",
       "  <thead>\n",
       "    <tr style=\"text-align: right;\">\n",
       "      <th></th>\n",
       "      <th>c1</th>\n",
       "      <th>c2</th>\n",
       "      <th>n_col</th>\n",
       "    </tr>\n",
       "  </thead>\n",
       "  <tbody>\n",
       "    <tr>\n",
       "      <th>c1</th>\n",
       "      <td>1.0</td>\n",
       "      <td>0.0</td>\n",
       "      <td>1.0</td>\n",
       "    </tr>\n",
       "    <tr>\n",
       "      <th>c2</th>\n",
       "      <td>0.75</td>\n",
       "      <td>0.25</td>\n",
       "      <td>1.0</td>\n",
       "    </tr>\n",
       "    <tr>\n",
       "      <th>c3</th>\n",
       "      <td>0.0</td>\n",
       "      <td>1.0</td>\n",
       "      <td>1.0</td>\n",
       "    </tr>\n",
       "    <tr>\n",
       "      <th>c4</th>\n",
       "      <td>0.0</td>\n",
       "      <td>1.0</td>\n",
       "      <td>1.0</td>\n",
       "    </tr>\n",
       "    <tr>\n",
       "      <th>n_row</th>\n",
       "      <td>2.0</td>\n",
       "      <td>2.0</td>\n",
       "      <td>NaN</td>\n",
       "    </tr>\n",
       "  </tbody>\n",
       "</table>\n",
       "</div>"
      ],
      "text/plain": [
       "         c1    c2  n_col\n",
       "c1      1.0   0.0    1.0\n",
       "c2     0.75  0.25    1.0\n",
       "c3      0.0   1.0    1.0\n",
       "c4      0.0   1.0    1.0\n",
       "n_row   2.0   2.0    NaN"
      ]
     },
     "execution_count": 15,
     "metadata": {},
     "output_type": "execute_result"
    }
   ],
   "source": [
    "def overlap_coefficient(list1: list, list2: list) -> float:\n",
    "    set1, set2 = set(list1), set(list2)\n",
    "    intersection = len(set1 & set2)\n",
    "    return intersection / min(len(set1), len(set2)) if min(len(set1), len(set2)) != 0 else 0\n",
    "\n",
    "\n",
    "def cluster_similarity(cluster1: dict[str, list[str]], cluster2: dict[str, list[str]], threshold:int = 0) -> pd.DataFrame:\n",
    "    df = pd.DataFrame(columns=cluster2.keys(), index=cluster1.keys())\n",
    "\n",
    "    for key, value in cluster1.items():\n",
    "        for key2, value2 in cluster2.items():\n",
    "            df.at[key, key2] = overlap_coefficient(value, value2)\n",
    "    n_row = (df > threshold).sum(axis=0)\n",
    "    n_col = (df > threshold).sum(axis=1)\n",
    "    df['n_col'] = n_col\n",
    "    df.loc['n_row'] = n_row\n",
    "    return df\n",
    "\n",
    "\n",
    "df = cluster_similarity(cluster_3, cluster_1)\n",
    "df"
   ]
  }
 ],
 "metadata": {
  "kernelspec": {
   "display_name": "venv",
   "language": "python",
   "name": "python3"
  },
  "language_info": {
   "codemirror_mode": {
    "name": "ipython",
    "version": 3
   },
   "file_extension": ".py",
   "mimetype": "text/x-python",
   "name": "python",
   "nbconvert_exporter": "python",
   "pygments_lexer": "ipython3",
   "version": "3.12.0"
  }
 },
 "nbformat": 4,
 "nbformat_minor": 2
}
