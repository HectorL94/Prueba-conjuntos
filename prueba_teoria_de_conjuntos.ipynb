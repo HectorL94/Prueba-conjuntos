{
 "cells": [
  {
   "cell_type": "code",
   "execution_count": null,
   "metadata": {},
   "outputs": [],
   "source": [
    "from cluster_similarity import ClusterSimilarity\n",
    "from similarity_measures import SimilarityMeasures as sm"
   ]
  },
  {
   "cell_type": "code",
   "execution_count": 1,
   "metadata": {},
   "outputs": [],
   "source": [
    "elements_to_consider = ['A', 'B', 'C', 'D', 'E', 'F', 'G', 'H', 'I', 'J']\n",
    "cluster_1 = {\"c1\": ['A', 'B', 'C', 'D', 'E'], \"c2\": ['F', 'G', 'H', 'I', 'J']}\n",
    "cluster_2 = {\"c1\": ['A', 'B', 'C', 'D', 'E'], \"c2\": ['F', 'G', 'H', 'I', 'J']}\n",
    "cluster_3 = {\"c1\": ['A', 'B'], \"c2\": ['C', 'D', 'E', 'F'],\n",
    "             \"c3\": ['G'], \"c4\": ['H', 'I', 'J']}"
   ]
  },
  {
   "cell_type": "code",
   "execution_count": null,
   "metadata": {},
   "outputs": [
    {
     "data": {
      "application/vnd.microsoft.datawrangler.viewer.v0+json": {
       "columns": [
        {
         "name": "index",
         "rawType": "object",
         "type": "string"
        },
        {
         "name": "c1",
         "rawType": "object",
         "type": "unknown"
        },
        {
         "name": "c2",
         "rawType": "object",
         "type": "unknown"
        },
        {
         "name": "n_col",
         "rawType": "float64",
         "type": "float"
        }
       ],
       "conversionMethod": "pd.DataFrame",
       "ref": "4d1bb830-6e80-4b7a-93f2-aee51ba45a12",
       "rows": [
        [
         "c1",
         "0.5714285714285714",
         "0.0",
         "1.0"
        ],
        [
         "c2",
         "0.6666666666666666",
         "0.2222222222222222",
         "2.0"
        ],
        [
         "c3",
         "0.0",
         "0.3333333333333333",
         "1.0"
        ],
        [
         "c4",
         "0.0",
         "0.75",
         "1.0"
        ],
        [
         "n_row",
         "2.0",
         "3.0",
         null
        ]
       ],
       "shape": {
        "columns": 3,
        "rows": 5
       }
      },
      "text/html": [
       "<div>\n",
       "<style scoped>\n",
       "    .dataframe tbody tr th:only-of-type {\n",
       "        vertical-align: middle;\n",
       "    }\n",
       "\n",
       "    .dataframe tbody tr th {\n",
       "        vertical-align: top;\n",
       "    }\n",
       "\n",
       "    .dataframe thead th {\n",
       "        text-align: right;\n",
       "    }\n",
       "</style>\n",
       "<table border=\"1\" class=\"dataframe\">\n",
       "  <thead>\n",
       "    <tr style=\"text-align: right;\">\n",
       "      <th></th>\n",
       "      <th>c1</th>\n",
       "      <th>c2</th>\n",
       "      <th>n_col</th>\n",
       "    </tr>\n",
       "  </thead>\n",
       "  <tbody>\n",
       "    <tr>\n",
       "      <th>c1</th>\n",
       "      <td>0.571429</td>\n",
       "      <td>0.0</td>\n",
       "      <td>1.0</td>\n",
       "    </tr>\n",
       "    <tr>\n",
       "      <th>c2</th>\n",
       "      <td>0.666667</td>\n",
       "      <td>0.222222</td>\n",
       "      <td>2.0</td>\n",
       "    </tr>\n",
       "    <tr>\n",
       "      <th>c3</th>\n",
       "      <td>0.0</td>\n",
       "      <td>0.333333</td>\n",
       "      <td>1.0</td>\n",
       "    </tr>\n",
       "    <tr>\n",
       "      <th>c4</th>\n",
       "      <td>0.0</td>\n",
       "      <td>0.75</td>\n",
       "      <td>1.0</td>\n",
       "    </tr>\n",
       "    <tr>\n",
       "      <th>n_row</th>\n",
       "      <td>2.0</td>\n",
       "      <td>3.0</td>\n",
       "      <td>NaN</td>\n",
       "    </tr>\n",
       "  </tbody>\n",
       "</table>\n",
       "</div>"
      ],
      "text/plain": [
       "             c1        c2  n_col\n",
       "c1     0.571429       0.0    1.0\n",
       "c2     0.666667  0.222222    2.0\n",
       "c3          0.0  0.333333    1.0\n",
       "c4          0.0      0.75    1.0\n",
       "n_row       2.0       3.0    NaN"
      ]
     },
     "execution_count": 3,
     "metadata": {},
     "output_type": "execute_result"
    }
   ],
   "source": [
    "similarity_measures = sm().overlap_coefficient\n",
    "df_similarity = ClusterSimilarity(cluster_3, cluster_1, similarity_measures=similarity_measures).calculate_similarity()\n",
    "df_similarity"
   ]
  }
 ],
 "metadata": {
  "kernelspec": {
   "display_name": "venv",
   "language": "python",
   "name": "python3"
  },
  "language_info": {
   "codemirror_mode": {
    "name": "ipython",
    "version": 3
   },
   "file_extension": ".py",
   "mimetype": "text/x-python",
   "name": "python",
   "nbconvert_exporter": "python",
   "pygments_lexer": "ipython3",
   "version": "3.12.0"
  }
 },
 "nbformat": 4,
 "nbformat_minor": 2
}
